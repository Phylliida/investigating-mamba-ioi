{
 "cells": [
  {
   "cell_type": "markdown",
   "id": "c263e53d-2757-45ce-9702-e7e8d2354b64",
   "metadata": {},
   "source": [
    "# Setup"
   ]
  },
  {
   "cell_type": "code",
   "execution_count": 3,
   "id": "70135332-aedd-40d7-bdc7-22e07111db6e",
   "metadata": {},
   "outputs": [
    {
     "name": "stderr",
     "output_type": "stream",
     "text": [
      "/opt/venv/lib/python3.10/site-packages/huggingface_hub/file_download.py:1132: FutureWarning: `resume_download` is deprecated and will be removed in version 1.0.0. Downloads always resume when possible. If you want to force a new download, use `force_download=True`.\n",
      "  warnings.warn(\n",
      "/opt/conda/lib/python3.10/site-packages/torch/_utils.py:776: UserWarning: TypedStorage is deprecated. It will be removed in the future and UntypedStorage will be the only storage class. This should only matter to you if you are using storages directly.  To access UntypedStorage directly, use tensor.untyped_storage() instead of tensor.storage()\n",
      "  return self.fget.__get__(instance, owner)()\n",
      "Special tokens have been added in the vocabulary, make sure the associated word embeddings are fine-tuned or trained.\n"
     ]
    },
    {
     "name": "stdout",
     "output_type": "stream",
     "text": [
      "Moving model to device:  cuda\n"
     ]
    },
    {
     "data": {
      "text/plain": [
       "<torch.autograd.grad_mode.set_grad_enabled at 0x7fd36e8df940>"
      ]
     },
     "execution_count": 3,
     "metadata": {},
     "output_type": "execute_result"
    }
   ],
   "source": [
    "# requires\n",
    "# pip install git+https://github.com/Phylliida/MambaLens.git\n",
    "\n",
    "# do PCA (and projective PCA?)\n",
    "# todo: for each name look at its PCA (make a colored graph for different components?)\n",
    "# train projection from PCA space to classifier space?\n",
    "\n",
    "from mamba_lens import HookedMamba # this will take a little while to import\n",
    "import torch\n",
    "model_path = \"state-spaces/mamba-370m\"\n",
    "model = HookedMamba.from_pretrained(model_path, device='cuda')\n",
    "torch.set_grad_enabled(False)\n"
   ]
  },
  {
   "cell_type": "code",
   "execution_count": 4,
   "id": "faadb7d6-dc5b-441a-89eb-b036c480380a",
   "metadata": {},
   "outputs": [],
   "source": [
    "# pip install git+https://github.com/Phylliida/MambaLens.git\n",
    "# pip install git+https://github.com/Phylliida/ACDC.git\n",
    "from acdc.data.ioi import ioi_data_generator, ABC_TEMPLATES, get_all_single_name_abc_patching_formats\n",
    "from acdc.data.utils import generate_dataset\n",
    "\n",
    "num_patching_pairs = 10000\n",
    "seed = 27\n",
    "valid_seed = 28\n",
    "constrain_to_answers = True\n",
    "has_symmetric_patching = True\n",
    "\n",
    "templates = ABC_TEMPLATES\n",
    "patching_formats = list(get_all_single_name_abc_patching_formats())\n",
    "\n",
    "data = generate_dataset(model=model,\n",
    "                  data_generator=ioi_data_generator,\n",
    "                  num_patching_pairs=num_patching_pairs,\n",
    "                  seed=seed,\n",
    "                  valid_seed=valid_seed,\n",
    "                  constrain_to_answers=constrain_to_answers,\n",
    "                  has_symmetric_patching=has_symmetric_patching, \n",
    "                  varying_data_lengths=True,\n",
    "                  templates=templates,\n",
    "                  patching_formats=patching_formats)\n",
    "\n"
   ]
  },
  {
   "cell_type": "markdown",
   "id": "bb35cbca-7af6-4caa-a862-bcaad9ba24cd",
   "metadata": {},
   "source": [
    "# Find positions of names for each piece of data"
   ]
  },
  {
   "cell_type": "code",
   "execution_count": 5,
   "id": "43215a4e-855c-47bc-8741-f1cc0b6fadbc",
   "metadata": {},
   "outputs": [
    {
     "name": "stdout",
     "output_type": "stream",
     "text": [
      "{50178, 46600, 31755, 46604, 11276, 33811, 46612, 16916, 18966, 12824, 32794, 7195, 33821, 33313, 37921, 29222, 31270, 28200, 18985, 37930, 28712, 7727, 24112, 32817, 36400, 5171, 44085, 35382, 30274, 20554, 15435, 33357, 49231, 38994, 21587, 7252, 40537, 27738, 44123, 44124, 14943, 45664, 15458, 49765, 19046, 35944, 29804, 23662, 37497, 22138, 27773, 28798, 33407, 27264, 9857, 35972, 6277, 14468, 4744, 32393, 32905, 22671, 20628, 17560, 32920, 21661, 16543, 31903, 16553, 18089, 41131, 28331, 20145, 46262, 30397, 41151, 22723, 23239, 17100, 37073, 22739, 49365, 16598, 47831, 31959, 22234, 23259, 20189, 45790, 29927, 46312, 46831, 29936, 31472, 26355, 6393, 8444, 26876, 26878, 6911, 25856, 19717, 8966, 38150, 26888, 27917, 6416, 39184, 24336, 48401, 23316, 37144, 31513, 42266, 29989, 27434, 45867, 36139, 29489, 27955, 27443, 22838, 7993, 13114, 13629, 28991, 40771, 25413, 44870, 18247, 47944, 26953, 35657, 13651, 27991, 26456, 48990, 34655, 16225, 28518, 20839, 43367, 10092, 11116, 31086, 29040, 50033, 5490, 39795, 48505, 40316, 19838, 24958, 38783, 23425, 24962, 13187, 49028, 12167, 43406, 14737, 43921, 18322, 12694, 16286, 48545, 29092, 16809, 15273, 22455, 24504, 30140, 27581, 35262, 21438, 36292, 6086, 21960, 31231, 20428, 33747, 13268, 25556, 45014, 2516, 36312, 33240, 16863, 28642, 10213, 25062, 16358, 23528, 35307, 19436, 25579, 15859, 38900, 7670, 8698, 12284, 44542, 5119}\n",
      "torch.Size([40000, 20])\n"
     ]
    }
   ],
   "source": [
    "from acdc.data.ioi import good_names\n",
    "from collections import defaultdict\n",
    "name_tokens = set([model.to_single_token(\" \" + name) for name in good_names])\n",
    "\n",
    "print(name_tokens)\n",
    "print(data.data.size())\n",
    "name_positions = defaultdict(lambda: [])\n",
    "for i in range(data.data.size()[0]):\n",
    "    prompt_tokens = data.data[i]\n",
    "    name_pos = 0\n",
    "    for i, tok in enumerate(prompt_tokens):\n",
    "        if tok.item() in name_tokens:\n",
    "            name_positions[name_pos].append(i) # +1 because conv\n",
    "            name_pos += 1\n",
    "    if name_pos != 5: raise ValueError(f\"data point {model.to_str_tokens(data)} does not have 5 names\")"
   ]
  },
  {
   "cell_type": "markdown",
   "id": "6f4ba1ea-b205-41d2-8912-cb81f92c9b3f",
   "metadata": {},
   "source": [
    "# Compute the embedding averages for each (name, position) "
   ]
  },
  {
   "cell_type": "code",
   "execution_count": 6,
   "id": "135a5921-b44f-4996-8381-cc56d0eab962",
   "metadata": {},
   "outputs": [
    {
     "data": {
      "application/vnd.jupyter.widget-view+json": {
       "model_id": "eb00dcc2671e4d1fa3104a3ab38d290d",
       "version_major": 2,
       "version_minor": 0
      },
      "text/plain": [
       "  0%|          | 0/1000 [00:00<?, ?it/s]"
      ]
     },
     "metadata": {},
     "output_type": "display_data"
    },
    {
     "name": "stdout",
     "output_type": "stream",
     "text": [
      "frequency of each name:\n",
      "defaultdict(<function <lambda> at 0x7fd363fecdc0>, {0: {50178: 196, 46600: 204, 31755: 178, 46604: 178, 11276: 162, 33811: 200, 46612: 190, 16916: 190, 18966: 164, 12824: 200, 32794: 212, 7195: 238, 33821: 192, 33313: 200, 37921: 178, 29222: 208, 31270: 202, 28200: 168, 18985: 180, 37930: 240, 28712: 196, 7727: 222, 24112: 218, 32817: 170, 36400: 182, 5171: 172, 44085: 222, 35382: 204, 30274: 172, 20554: 160, 15435: 168, 33357: 216, 49231: 190, 38994: 150, 21587: 232, 7252: 200, 40537: 194, 27738: 224, 44123: 238, 44124: 236, 14943: 148, 45664: 200, 15458: 206, 49765: 198, 19046: 154, 35944: 156, 29804: 186, 23662: 206, 37497: 200, 22138: 242, 27773: 188, 28798: 150, 33407: 186, 27264: 218, 9857: 234, 35972: 230, 6277: 226, 14468: 222, 4744: 166, 32393: 190, 32905: 224, 22671: 170, 20628: 178, 17560: 214, 32920: 348, 21661: 188, 16543: 206, 31903: 184, 16553: 182, 18089: 198, 41131: 230, 28331: 174, 20145: 222, 46262: 188, 30397: 178, 41151: 208, 22723: 182, 23239: 190, 17100: 212, 37073: 216, 22739: 236, 49365: 240, 16598: 210, 47831: 202, 31959: 222, 22234: 188, 23259: 178, 20189: 168, 45790: 234, 29927: 218, 46312: 184, 46831: 194, 29936: 196, 31472: 238, 26355: 206, 6393: 182, 8444: 232, 26876: 202, 26878: 196, 6911: 214, 25856: 198, 19717: 212, 8966: 180, 38150: 218, 26888: 182, 27917: 226, 6416: 198, 39184: 246, 24336: 218, 48401: 148, 23316: 184, 37144: 178, 31513: 196, 42266: 246, 29989: 186, 27434: 228, 45867: 194, 36139: 210, 29489: 154, 27955: 196, 27443: 144, 22838: 190, 7993: 198, 13114: 186, 13629: 210, 28991: 194, 40771: 172, 25413: 206, 44870: 182, 18247: 204, 47944: 158, 26953: 174, 35657: 216, 13651: 198, 27991: 168, 26456: 186, 48990: 168, 34655: 204, 16225: 176, 28518: 202, 20839: 236, 43367: 182, 10092: 192, 11116: 218, 31086: 196, 29040: 180, 50033: 122, 5490: 180, 39795: 212, 48505: 208, 40316: 208, 19838: 246, 24958: 164, 38783: 234, 23425: 174, 24962: 182, 13187: 162, 49028: 154, 12167: 150, 43406: 162, 14737: 186, 43921: 226, 18322: 244, 12694: 188, 16286: 182, 48545: 174, 29092: 198, 16809: 222, 15273: 236, 22455: 152, 24504: 208, 30140: 206, 27581: 272, 35262: 200, 21438: 204, 36292: 196, 6086: 222, 21960: 138, 31231: 172, 20428: 184, 33747: 196, 13268: 338, 25556: 126, 45014: 218, 2516: 222, 36312: 204, 33240: 212, 16863: 200, 28642: 204, 10213: 198, 25062: 216, 16358: 192, 23528: 132, 35307: 170, 19436: 142, 25579: 194, 15859: 186, 38900: 196, 7670: 136, 8698: 168, 12284: 228, 44542: 218, 5119: 214}, 1: {50178: 220, 46600: 162, 31755: 148, 46604: 200, 11276: 160, 33811: 168, 46612: 198, 16916: 218, 18966: 190, 12824: 178, 32794: 154, 7195: 208, 33821: 180, 33313: 176, 37921: 206, 29222: 182, 31270: 154, 28200: 208, 18985: 220, 37930: 196, 28712: 184, 7727: 184, 24112: 178, 32817: 234, 36400: 190, 5171: 164, 44085: 250, 35382: 132, 30274: 204, 20554: 218, 15435: 186, 33357: 214, 49231: 176, 38994: 196, 21587: 184, 7252: 214, 40537: 198, 27738: 200, 44123: 182, 44124: 206, 14943: 166, 45664: 156, 15458: 204, 49765: 206, 19046: 166, 35944: 224, 29804: 208, 23662: 178, 37497: 158, 22138: 158, 27773: 206, 28798: 164, 33407: 204, 27264: 178, 9857: 214, 35972: 178, 6277: 222, 14468: 184, 4744: 186, 32393: 204, 32905: 160, 22671: 182, 20628: 166, 17560: 202, 32920: 306, 21661: 198, 16543: 246, 31903: 230, 16553: 192, 18089: 166, 41131: 192, 28331: 200, 20145: 176, 46262: 180, 30397: 192, 41151: 184, 22723: 174, 23239: 196, 17100: 208, 37073: 198, 22739: 224, 49365: 190, 16598: 220, 47831: 194, 31959: 186, 22234: 220, 23259: 214, 20189: 222, 45790: 198, 29927: 208, 46312: 166, 46831: 172, 29936: 180, 31472: 238, 26355: 180, 6393: 188, 8444: 172, 26876: 212, 26878: 176, 6911: 166, 25856: 162, 19717: 196, 8966: 200, 38150: 188, 26888: 202, 27917: 214, 6416: 180, 39184: 158, 24336: 156, 48401: 218, 23316: 168, 37144: 182, 31513: 174, 42266: 220, 29989: 156, 27434: 216, 45867: 184, 36139: 198, 29489: 206, 27955: 194, 27443: 234, 22838: 202, 7993: 220, 13114: 204, 13629: 190, 28991: 210, 40771: 174, 25413: 226, 44870: 250, 18247: 184, 47944: 182, 26953: 200, 35657: 196, 13651: 220, 27991: 224, 26456: 214, 48990: 190, 34655: 238, 16225: 180, 28518: 212, 20839: 190, 43367: 246, 10092: 160, 11116: 256, 31086: 244, 29040: 152, 50033: 210, 5490: 220, 39795: 176, 48505: 240, 40316: 194, 19838: 188, 24958: 186, 38783: 206, 23425: 202, 24962: 206, 13187: 204, 49028: 174, 12167: 204, 43406: 204, 14737: 174, 43921: 212, 18322: 204, 12694: 204, 16286: 160, 48545: 210, 29092: 226, 16809: 252, 15273: 230, 22455: 210, 24504: 166, 30140: 192, 27581: 208, 35262: 188, 21438: 234, 36292: 206, 6086: 200, 21960: 224, 31231: 174, 20428: 202, 33747: 208, 13268: 360, 25556: 234, 45014: 206, 2516: 202, 36312: 212, 33240: 210, 16863: 222, 28642: 234, 10213: 170, 25062: 140, 16358: 212, 23528: 178, 35307: 188, 19436: 178, 25579: 220, 15859: 196, 38900: 188, 7670: 178, 8698: 234, 12284: 176, 44542: 200, 5119: 136}, 2: {50178: 238, 46600: 142, 31755: 172, 46604: 220, 11276: 156, 33811: 176, 46612: 206, 16916: 150, 18966: 184, 12824: 192, 32794: 208, 7195: 174, 33821: 184, 33313: 210, 37921: 218, 29222: 186, 31270: 226, 28200: 174, 18985: 172, 37930: 160, 28712: 180, 7727: 240, 24112: 228, 32817: 162, 36400: 152, 5171: 194, 44085: 156, 35382: 206, 30274: 232, 20554: 154, 15435: 240, 33357: 190, 49231: 180, 38994: 176, 21587: 188, 7252: 230, 40537: 208, 27738: 222, 44123: 160, 44124: 222, 14943: 206, 45664: 234, 15458: 176, 49765: 242, 19046: 196, 35944: 202, 29804: 206, 23662: 216, 37497: 188, 22138: 182, 27773: 202, 28798: 188, 33407: 218, 27264: 176, 9857: 186, 35972: 204, 6277: 188, 14468: 218, 4744: 200, 32393: 210, 32905: 176, 22671: 210, 20628: 176, 17560: 182, 32920: 444, 21661: 192, 16543: 200, 31903: 190, 16553: 224, 18089: 238, 41131: 202, 28331: 200, 20145: 196, 46262: 138, 30397: 188, 41151: 202, 22723: 190, 23239: 180, 17100: 166, 37073: 170, 22739: 184, 49365: 134, 16598: 234, 47831: 154, 31959: 162, 22234: 206, 23259: 152, 20189: 196, 45790: 202, 29927: 232, 46312: 204, 46831: 208, 29936: 184, 31472: 178, 26355: 252, 6393: 220, 8444: 186, 26876: 216, 26878: 192, 6911: 192, 25856: 220, 19717: 192, 8966: 236, 38150: 168, 26888: 192, 27917: 172, 6416: 180, 39184: 212, 24336: 246, 48401: 214, 23316: 224, 37144: 166, 31513: 232, 42266: 162, 29989: 176, 27434: 186, 45867: 202, 36139: 204, 29489: 194, 27955: 172, 27443: 192, 22838: 152, 7993: 204, 13114: 174, 13629: 200, 28991: 190, 40771: 236, 25413: 180, 44870: 194, 18247: 188, 47944: 216, 26953: 264, 35657: 194, 13651: 106, 27991: 128, 26456: 216, 48990: 142, 34655: 158, 16225: 194, 28518: 236, 20839: 210, 43367: 160, 10092: 200, 11116: 214, 31086: 198, 29040: 166, 50033: 172, 5490: 180, 39795: 222, 48505: 180, 40316: 214, 19838: 172, 24958: 240, 38783: 196, 23425: 156, 24962: 214, 13187: 198, 49028: 192, 12167: 196, 43406: 166, 14737: 252, 43921: 180, 18322: 184, 12694: 212, 16286: 168, 48545: 154, 29092: 244, 16809: 158, 15273: 186, 22455: 192, 24504: 198, 30140: 214, 27581: 160, 35262: 214, 21438: 232, 36292: 256, 6086: 178, 21960: 202, 31231: 180, 20428: 194, 33747: 166, 13268: 474, 25556: 178, 45014: 222, 2516: 216, 36312: 178, 33240: 188, 16863: 234, 28642: 222, 10213: 202, 25062: 240, 16358: 184, 23528: 192, 35307: 174, 19436: 234, 25579: 206, 15859: 164, 38900: 148, 7670: 248, 8698: 160, 12284: 170, 44542: 212, 5119: 212}, 3: {50178: 214, 46600: 208, 31755: 152, 46604: 168, 11276: 162, 33811: 214, 46612: 182, 16916: 212, 18966: 152, 12824: 186, 32794: 190, 7195: 238, 33821: 188, 33313: 178, 37921: 186, 29222: 198, 31270: 198, 28200: 198, 18985: 200, 37930: 240, 28712: 218, 7727: 224, 24112: 194, 32817: 198, 36400: 194, 5171: 182, 44085: 244, 35382: 172, 30274: 184, 20554: 182, 15435: 182, 33357: 208, 49231: 184, 38994: 160, 21587: 224, 7252: 204, 40537: 200, 27738: 200, 44123: 226, 44124: 208, 14943: 170, 45664: 168, 15458: 192, 49765: 202, 19046: 180, 35944: 166, 29804: 190, 23662: 196, 37497: 162, 22138: 208, 27773: 188, 28798: 160, 33407: 174, 27264: 212, 9857: 254, 35972: 202, 6277: 210, 14468: 216, 4744: 146, 32393: 202, 32905: 200, 22671: 192, 20628: 196, 17560: 228, 32920: 326, 21661: 218, 16543: 226, 31903: 194, 16553: 178, 18089: 190, 41131: 216, 28331: 192, 20145: 210, 46262: 176, 30397: 180, 41151: 208, 22723: 166, 23239: 180, 17100: 214, 37073: 190, 22739: 242, 49365: 238, 16598: 220, 47831: 228, 31959: 216, 22234: 218, 23259: 212, 20189: 202, 45790: 232, 29927: 202, 46312: 156, 46831: 194, 29936: 208, 31472: 250, 26355: 182, 6393: 184, 8444: 202, 26876: 202, 26878: 176, 6911: 184, 25856: 174, 19717: 218, 8966: 208, 38150: 200, 26888: 182, 27917: 228, 6416: 200, 39184: 234, 24336: 198, 48401: 168, 23316: 172, 37144: 162, 31513: 192, 42266: 222, 29989: 194, 27434: 250, 45867: 228, 36139: 180, 29489: 146, 27955: 188, 27443: 174, 22838: 204, 7993: 158, 13114: 202, 13629: 210, 28991: 214, 40771: 176, 25413: 186, 44870: 166, 18247: 192, 47944: 170, 26953: 192, 35657: 200, 13651: 214, 27991: 194, 26456: 156, 48990: 172, 34655: 218, 16225: 156, 28518: 204, 20839: 220, 43367: 182, 10092: 174, 11116: 260, 31086: 218, 29040: 184, 50033: 140, 5490: 170, 39795: 186, 48505: 212, 40316: 200, 19838: 226, 24958: 166, 38783: 218, 23425: 188, 24962: 184, 13187: 186, 49028: 174, 12167: 162, 43406: 178, 14737: 176, 43921: 194, 18322: 246, 12694: 180, 16286: 158, 48545: 154, 29092: 226, 16809: 248, 15273: 248, 22455: 192, 24504: 194, 30140: 210, 27581: 256, 35262: 208, 21438: 220, 36292: 198, 6086: 224, 21960: 172, 31231: 190, 20428: 200, 33747: 198, 13268: 322, 25556: 140, 45014: 222, 2516: 230, 36312: 186, 33240: 228, 16863: 206, 28642: 200, 10213: 188, 25062: 198, 16358: 228, 23528: 152, 35307: 150, 19436: 132, 25579: 180, 15859: 198, 38900: 200, 7670: 124, 8698: 190, 12284: 190, 44542: 242, 5119: 194}, 4: {50178: 228, 46600: 132, 31755: 168, 46604: 200, 11276: 146, 33811: 162, 46612: 208, 16916: 180, 18966: 192, 12824: 192, 32794: 182, 7195: 184, 33821: 162, 33313: 182, 37921: 208, 29222: 174, 31270: 216, 28200: 176, 18985: 182, 37930: 178, 28712: 184, 7727: 246, 24112: 224, 32817: 170, 36400: 168, 5171: 164, 44085: 188, 35382: 182, 30274: 230, 20554: 182, 15435: 224, 33357: 204, 49231: 164, 38994: 172, 21587: 152, 7252: 246, 40537: 196, 27738: 226, 44123: 166, 44124: 236, 14943: 186, 45664: 210, 15458: 174, 49765: 258, 19046: 178, 35944: 206, 29804: 196, 23662: 214, 37497: 174, 22138: 172, 27773: 212, 28798: 164, 33407: 232, 27264: 182, 9857: 176, 35972: 204, 6277: 184, 14468: 196, 4744: 198, 32393: 222, 32905: 170, 22671: 186, 20628: 158, 17560: 178, 32920: 430, 21661: 168, 16543: 228, 31903: 188, 16553: 218, 18089: 194, 41131: 208, 28331: 198, 20145: 180, 46262: 174, 30397: 184, 41151: 184, 22723: 174, 23239: 174, 17100: 180, 37073: 182, 22739: 196, 49365: 142, 16598: 236, 47831: 154, 31959: 156, 22234: 196, 23259: 144, 20189: 196, 45790: 216, 29927: 242, 46312: 226, 46831: 186, 29936: 164, 31472: 180, 26355: 228, 6393: 206, 8444: 176, 26876: 240, 26878: 172, 6911: 180, 25856: 220, 19717: 172, 8966: 228, 38150: 176, 26888: 178, 27917: 172, 6416: 164, 39184: 186, 24336: 208, 48401: 212, 23316: 202, 37144: 176, 31513: 234, 42266: 176, 29989: 170, 27434: 178, 45867: 176, 36139: 232, 29489: 224, 27955: 174, 27443: 208, 22838: 162, 7993: 234, 13114: 188, 13629: 190, 28991: 190, 40771: 202, 25413: 216, 44870: 230, 18247: 196, 47944: 182, 26953: 270, 35657: 196, 13651: 132, 27991: 148, 26456: 268, 48990: 178, 34655: 204, 16225: 202, 28518: 238, 20839: 182, 43367: 176, 10092: 186, 11116: 222, 31086: 204, 29040: 146, 50033: 180, 5490: 190, 39795: 236, 48505: 206, 40316: 214, 19838: 200, 24958: 256, 38783: 224, 23425: 154, 24962: 232, 13187: 190, 49028: 184, 12167: 188, 43406: 162, 14737: 230, 43921: 230, 18322: 180, 12694: 238, 16286: 182, 48545: 186, 29092: 220, 16809: 170, 15273: 204, 22455: 176, 24504: 190, 30140: 208, 27581: 162, 35262: 190, 21438: 220, 36292: 262, 6086: 220, 21960: 204, 31231: 162, 20428: 198, 33747: 174, 13268: 462, 25556: 188, 45014: 224, 2516: 236, 36312: 190, 33240: 190, 16863: 260, 28642: 218, 10213: 194, 25062: 200, 16358: 190, 23528: 204, 35307: 180, 19436: 234, 25579: 230, 15859: 164, 38900: 160, 7670: 230, 8698: 182, 12284: 170, 44542: 178, 5119: 180}})\n"
     ]
    }
   ],
   "source": [
    "import torch\n",
    "from tqdm.notebook import tqdm\n",
    "\n",
    "LAYER = 39\n",
    "batch_size = 40\n",
    "\n",
    "hook = f\"blocks.{LAYER}.hook_ssm_input\"\n",
    "\n",
    "name_averages = defaultdict(lambda: {})\n",
    "counts = defaultdict(lambda: {})\n",
    "\n",
    "TOTAL_AVG_NAME = \"total\"\n",
    "\n",
    "for tok in name_tokens:\n",
    "    for name_i in range(len(name_positions)):\n",
    "        name_averages[name_i][tok] = torch.zeros([model.cfg.E], device=model.cfg.device)\n",
    "        counts[name_i][tok] = 0\n",
    "\n",
    "for batch_start in tqdm(list(range(0, data.data.size()[0], batch_size))):\n",
    "    batch_end = min(data.data.size()[0], batch_start+batch_size)\n",
    "    data_batch = data.data[batch_start:batch_end]\n",
    "    logits, activations = model.run_with_cache(data_batch, names_filter=[hook], fast_ssm=True, fast_conv=True)\n",
    "    for name_i in range(len(name_positions)):\n",
    "        positions = torch.tensor(name_positions[name_i][batch_start:batch_end], device=model.cfg.device)\n",
    "        batch_name_tokens = data_batch[torch.arange(batch_end-batch_start),positions]\n",
    "        ssm_inputs = activations[hook]\n",
    "        for batch_i, name_tok in enumerate(batch_name_tokens):\n",
    "            try:\n",
    "                position = positions[batch_i]+1 # one plus position, because of convs\n",
    "                name_averages[name_i][name_tok.item()] += ssm_inputs[batch_i, position]\n",
    "                counts[name_i][name_tok.item()] += 1\n",
    "            except:\n",
    "                print(model.to_str_tokens([name_tok]))\n",
    "                raise\n",
    "print(\"frequency of each name:\")\n",
    "print(counts)\n",
    "for name_i in range(len(name_positions)):\n",
    "    for name_tok in list(name_averages[name_i].keys()):\n",
    "        name_averages[name_i][name_tok] = name_averages[name_i][name_tok] / counts[name_i][name_tok]\n"
   ]
  },
  {
   "cell_type": "markdown",
   "id": "54abf567-c07a-4267-bcdb-718c8ef4dbba",
   "metadata": {},
   "source": [
    "# Modify activations of ssm_input and see how that changes the output\n",
    "\n",
    "change DO_DIFF to switch method"
   ]
  },
  {
   "cell_type": "code",
   "execution_count": 9,
   "id": "9864d5eb-5a03-4771-966f-758f869133a4",
   "metadata": {},
   "outputs": [
    {
     "name": "stdout",
     "output_type": "stream",
     "text": [
      "0 0\n",
      "10\n",
      "20\n",
      "30\n",
      "40\n",
      "50\n",
      "60\n",
      "70\n",
      "80\n",
      "90\n",
      "100\n",
      "0 1\n",
      "10\n",
      "20\n",
      "30\n",
      "40\n",
      "50\n",
      "60\n",
      "70\n",
      "80\n",
      "90\n",
      "100\n",
      "0 2\n",
      "10\n",
      "20\n",
      "30\n",
      "40\n",
      "50\n",
      "60\n",
      "70\n",
      "80\n",
      "90\n",
      "100\n",
      "0 3\n",
      "10\n",
      "20\n",
      "30\n",
      "40\n",
      "50\n",
      "60\n",
      "70\n",
      "80\n",
      "90\n",
      "100\n",
      "0 4\n",
      "10\n",
      "20\n",
      "30\n",
      "40\n",
      "50\n",
      "60\n",
      "70\n",
      "80\n",
      "90\n",
      "100\n",
      "1 0\n",
      "10\n",
      "20\n",
      "30\n",
      "40\n",
      "50\n",
      "60\n",
      "70\n",
      "80\n",
      "90\n",
      "100\n",
      "1 1\n",
      "10\n",
      "20\n",
      "30\n",
      "40\n",
      "50\n",
      "60\n",
      "70\n",
      "80\n",
      "90\n",
      "100\n",
      "1 2\n",
      "10\n",
      "20\n",
      "30\n",
      "40\n",
      "50\n",
      "60\n",
      "70\n",
      "80\n",
      "90\n",
      "100\n",
      "1 3\n",
      "10\n",
      "20\n",
      "30\n",
      "40\n",
      "50\n",
      "60\n",
      "70\n",
      "80\n",
      "90\n",
      "100\n",
      "1 4\n",
      "10\n",
      "20\n",
      "30\n",
      "40\n",
      "50\n",
      "60\n",
      "70\n",
      "80\n",
      "90\n",
      "100\n",
      "2 0\n",
      "10\n",
      "20\n",
      "30\n",
      "40\n",
      "50\n",
      "60\n",
      "70\n",
      "80\n",
      "90\n",
      "100\n",
      "2 1\n",
      "10\n",
      "20\n",
      "30\n",
      "40\n",
      "50\n",
      "60\n",
      "70\n",
      "80\n",
      "90\n",
      "100\n",
      "2 2\n",
      "10\n",
      "20\n",
      "30\n",
      "40\n",
      "50\n",
      "60\n",
      "70\n",
      "80\n",
      "90\n",
      "100\n",
      "2 3\n",
      "10\n",
      "20\n",
      "30\n",
      "40\n",
      "50\n",
      "60\n",
      "70\n",
      "80\n",
      "90\n",
      "100\n",
      "2 4\n",
      "10\n",
      "20\n",
      "30\n",
      "40\n",
      "50\n",
      "60\n",
      "70\n",
      "80\n",
      "90\n",
      "100\n",
      "3 0\n",
      "10\n",
      "20\n",
      "30\n",
      "40\n",
      "50\n",
      "60\n",
      "70\n",
      "80\n",
      "90\n",
      "100\n",
      "3 1\n",
      "10\n",
      "20\n",
      "30\n",
      "40\n",
      "50\n",
      "60\n",
      "70\n",
      "80\n",
      "90\n",
      "100\n",
      "3 2\n",
      "10\n",
      "20\n",
      "30\n",
      "40\n",
      "50\n",
      "60\n",
      "70\n",
      "80\n",
      "90\n",
      "100\n",
      "3 3\n",
      "10\n",
      "20\n",
      "30\n",
      "40\n",
      "50\n",
      "60\n",
      "70\n",
      "80\n",
      "90\n",
      "100\n",
      "3 4\n",
      "10\n",
      "20\n",
      "30\n",
      "40\n",
      "50\n",
      "60\n",
      "70\n",
      "80\n",
      "90\n",
      "100\n",
      "4 0\n",
      "10\n",
      "20\n",
      "30\n",
      "40\n",
      "50\n",
      "60\n",
      "70\n",
      "80\n",
      "90\n",
      "100\n",
      "4 1\n",
      "10\n",
      "20\n",
      "30\n",
      "40\n",
      "50\n",
      "60\n",
      "70\n",
      "80\n",
      "90\n",
      "100\n",
      "4 2\n",
      "10\n",
      "20\n",
      "30\n",
      "40\n",
      "50\n",
      "60\n",
      "70\n",
      "80\n",
      "90\n",
      "100\n",
      "4 3\n",
      "10\n",
      "20\n",
      "30\n",
      "40\n",
      "50\n",
      "60\n",
      "70\n",
      "80\n",
      "90\n",
      "100\n",
      "4 4\n",
      "10\n",
      "20\n",
      "30\n",
      "40\n",
      "50\n",
      "60\n",
      "70\n",
      "80\n",
      "90\n",
      "100\n"
     ]
    }
   ],
   "source": [
    "import random\n",
    "random.seed(27)\n",
    "\n",
    "# True or False specifices which we do (False is \"Replace Method\", True is \"Add and Subtract Method\")\n",
    "DO_DIFF = True\n",
    "\n",
    "model_kwargs = {\"fast_ssm\": True, \"fast_conv\": True}\n",
    "\n",
    "original_corrects = {}\n",
    "original_replaces = {}\n",
    "replace_corrects = {}\n",
    "replace_replaces = {}\n",
    "patched_corrects = {}\n",
    "patched_replaces = {}\n",
    "\n",
    "for position_1 in range(5):\n",
    "    for position_2 in range(5):\n",
    "        print(position_1, position_2)\n",
    "        original_correct = []\n",
    "        original_replace = []\n",
    "        replace_correct = []\n",
    "        replace_replace = []\n",
    "        patched_correct = []\n",
    "        patched_replace = []\n",
    "\n",
    "        original_corrects[(position_1, position_2)] = original_correct\n",
    "        original_replaces[(position_1, position_2)] = original_replace\n",
    "        replace_corrects[(position_1, position_2)] = replace_correct\n",
    "        replace_replaces[(position_1, position_2)] = replace_replace\n",
    "        patched_corrects[(position_1, position_2)] = patched_correct\n",
    "        patched_replaces[(position_1, position_2)] = patched_replace\n",
    "\n",
    "        batched_inputs = []\n",
    "        batched_corrupted_inputs = []\n",
    "        num_found = 0\n",
    "        hooks = []\n",
    "        corrupted_hooks = []\n",
    "        last_token_positions = []\n",
    "        replace_toks = []\n",
    "        answer_toks = []\n",
    "        batch_i = 0\n",
    "        while True:\n",
    "            data_i = random.choice(list(range(data.data.size()[0])))\n",
    "            \n",
    "            import random\n",
    "            from functools import partial\n",
    "        \n",
    "            data_i = (data_i // 2)*2\n",
    "            patched_i = data_i + 1\n",
    "            \n",
    "            data_tokens = data.data[data_i]\n",
    "            corrupted_tokens = data.data[patched_i]\n",
    "            answer_tok = data.correct[data_i][0].item()\n",
    "            answer = model.to_str_tokens(torch.tensor([answer_tok]))[0]\n",
    "            replace_tok = data.correct[patched_i][0].item()\n",
    "            new_answer_tok = replace_tok\n",
    "            if position_1 > 2:\n",
    "                # replacing patched name for 3 and 4 wouldn't change the output\n",
    "                # instead, we need to substitute the answer\n",
    "                # this results in a different answer being outputted (the name that isn't present)\n",
    "                replace_tok = answer_tok\n",
    "                # find the new answer, which is the name at the position we are overwriting\n",
    "                token_position_of_new_answer = name_positions[position_1][data_i]\n",
    "                new_answer_tok = data.data[data_i][token_position_of_new_answer].item()\n",
    "                \n",
    "                        \n",
    "            replace_name = model.to_str_tokens(torch.tensor([replace_tok]))[0]\n",
    "            \n",
    "            last_token_pos = data.last_token_position[data_i]\n",
    "            def replace_hook(\n",
    "                x,\n",
    "                hook,\n",
    "                position,\n",
    "                replace_vec,\n",
    "                replace_add_vec,\n",
    "                batch_i,\n",
    "            ):\n",
    "                if not replace_vec is None:\n",
    "                    x[batch_i, position] = replace_vec\n",
    "                if not replace_add_vec is None:\n",
    "                    x[batch_i, position] += replace_add_vec\n",
    "                return x\n",
    "            \n",
    "            answer_positions = []\n",
    "            if position_1 < 3:\n",
    "                for name_i in range(len(name_positions)):\n",
    "                    position = name_positions[name_i][data_i]\n",
    "                    if data_tokens[position].item() == answer_tok:\n",
    "                        answer_positions.append((name_i, position))\n",
    "            else:\n",
    "                answer_positions.append((position_1, name_positions[position_1][data_i]))\n",
    "\n",
    "            bad = False\n",
    "            for name_i, position in answer_positions:\n",
    "                # throw out data points that don't have the answer at the desired position\n",
    "                # this ensures that we patch the token corresponding to the answer\n",
    "                # (only relevant for names 0-2, for names 3-4 we substitute the answer always)\n",
    "                if (position_1 <= 2 and not name_i == position_1) or len(answer_positions) > 2:\n",
    "                    bad = True\n",
    "                    break\n",
    "                \n",
    "                replace_vec = name_averages[position_2][replace_tok]\n",
    "                \n",
    "                if position_1 <= 2:\n",
    "                    replace_add_vec = name_averages[position_2][replace_tok] - name_averages[position_2][answer_tok]\n",
    "                else:\n",
    "                    # we need to subtract the name that was here (now the new answer) and add the replace_tok \n",
    "                    replace_add_vec = name_averages[position_2][replace_tok] - name_averages[position_2][new_answer_tok]\n",
    "        \n",
    "                if DO_DIFF:\n",
    "                    hooks.append((hook, partial(replace_hook, position=position+1, replace_vec=None, replace_add_vec=replace_add_vec, batch_i=batch_i)))\n",
    "                else:\n",
    "                    hooks.append((hook, partial(replace_hook, position=position+1, replace_vec=replace_vec, replace_add_vec=None, batch_i=batch_i)))\n",
    "            if bad:\n",
    "                continue\n",
    "            else:\n",
    "                num_found += 1\n",
    "            \n",
    "            if num_found % 10 == 0:\n",
    "                print(num_found)\n",
    "            batched_inputs.append(data_tokens.view(1, -1))\n",
    "            last_token_positions.append(last_token_pos)\n",
    "            replace_toks.append(new_answer_tok)\n",
    "            answer_toks.append(answer_tok)\n",
    "\n",
    "            batch_i += 1\n",
    "            \n",
    "            if num_found > 100:\n",
    "                break\n",
    "\n",
    "        batched_inputs = torch.cat(batched_inputs, dim=0)\n",
    "        \n",
    "        logits_modified = model.run_with_hooks(batched_inputs, fwd_hooks=hooks, **model_kwargs)\n",
    "        \n",
    "        for i in range(batched_inputs.size()[0]):\n",
    "            replace_correct.append(logits_modified[i,last_token_positions[i],answer_toks[i]].item())\n",
    "            replace_replace.append(logits_modified[i,last_token_positions[i],replace_toks[i]].item())        \n",
    "        del logits_modified\n",
    "        \n"
   ]
  },
  {
   "cell_type": "markdown",
   "id": "3d6a6d55-03b7-47e7-9cc2-41e536c49f13",
   "metadata": {},
   "source": [
    "# Plot results"
   ]
  },
  {
   "cell_type": "code",
   "execution_count": 10,
   "id": "7955f5c9-97f1-4cf1-b656-5d64da2de8d1",
   "metadata": {},
   "outputs": [
    {
     "data": {
      "application/vnd.plotly.v1+json": {
       "config": {
        "plotlyServerURL": "https://plot.ly"
       },
       "data": [
        {
         "coloraxis": "coloraxis",
         "hovertemplate": "x: %{x}<br>y: %{y}<br>color: %{z}<extra></extra>",
         "name": "0",
         "type": "heatmap",
         "x": [
          1,
          2,
          3,
          4,
          5
         ],
         "xaxis": "x",
         "y": [
          1,
          2,
          3,
          4,
          5
         ],
         "yaxis": "y",
         "z": [
          [
           1,
           1,
           0.9900990128517151,
           0.6831682920455933,
           0.6138613820075989
          ],
          [
           0.9801980257034302,
           1,
           0.9504950642585754,
           0.7722772359848022,
           0.5841584205627441
          ],
          [
           1,
           1,
           1,
           0.8811880946159363,
           0.8514851331710815
          ],
          [
           0.9801980257034302,
           0.9504950642585754,
           0.9603960514068604,
           0.8613861203193665,
           0.8415841460227966
          ],
          [
           1,
           1,
           1,
           0.9405940771102905,
           0.9108911156654358
          ]
         ]
        }
       ],
       "layout": {
        "autosize": false,
        "coloraxis": {
         "colorscale": [
          [
           0,
           "rgb(103,0,31)"
          ],
          [
           0.1,
           "rgb(178,24,43)"
          ],
          [
           0.2,
           "rgb(214,96,77)"
          ],
          [
           0.3,
           "rgb(244,165,130)"
          ],
          [
           0.4,
           "rgb(253,219,199)"
          ],
          [
           0.5,
           "rgb(247,247,247)"
          ],
          [
           0.6,
           "rgb(209,229,240)"
          ],
          [
           0.7,
           "rgb(146,197,222)"
          ],
          [
           0.8,
           "rgb(67,147,195)"
          ],
          [
           0.9,
           "rgb(33,102,172)"
          ],
          [
           1,
           "rgb(5,48,97)"
          ]
         ]
        },
        "font": {
         "color": "black",
         "size": 12
        },
        "height": 600,
        "legend": {
         "x": 0.01,
         "xanchor": "left",
         "y": 0.99,
         "yanchor": "top"
        },
        "margin": {
         "b": 0,
         "l": 0,
         "r": 0,
         "t": 100
        },
        "showlegend": true,
        "template": {
         "data": {
          "bar": [
           {
            "error_x": {
             "color": "#2a3f5f"
            },
            "error_y": {
             "color": "#2a3f5f"
            },
            "marker": {
             "line": {
              "color": "#E5ECF6",
              "width": 0.5
             },
             "pattern": {
              "fillmode": "overlay",
              "size": 10,
              "solidity": 0.2
             }
            },
            "type": "bar"
           }
          ],
          "barpolar": [
           {
            "marker": {
             "line": {
              "color": "#E5ECF6",
              "width": 0.5
             },
             "pattern": {
              "fillmode": "overlay",
              "size": 10,
              "solidity": 0.2
             }
            },
            "type": "barpolar"
           }
          ],
          "carpet": [
           {
            "aaxis": {
             "endlinecolor": "#2a3f5f",
             "gridcolor": "white",
             "linecolor": "white",
             "minorgridcolor": "white",
             "startlinecolor": "#2a3f5f"
            },
            "baxis": {
             "endlinecolor": "#2a3f5f",
             "gridcolor": "white",
             "linecolor": "white",
             "minorgridcolor": "white",
             "startlinecolor": "#2a3f5f"
            },
            "type": "carpet"
           }
          ],
          "choropleth": [
           {
            "colorbar": {
             "outlinewidth": 0,
             "ticks": ""
            },
            "type": "choropleth"
           }
          ],
          "contour": [
           {
            "colorbar": {
             "outlinewidth": 0,
             "ticks": ""
            },
            "colorscale": [
             [
              0,
              "#0d0887"
             ],
             [
              0.1111111111111111,
              "#46039f"
             ],
             [
              0.2222222222222222,
              "#7201a8"
             ],
             [
              0.3333333333333333,
              "#9c179e"
             ],
             [
              0.4444444444444444,
              "#bd3786"
             ],
             [
              0.5555555555555556,
              "#d8576b"
             ],
             [
              0.6666666666666666,
              "#ed7953"
             ],
             [
              0.7777777777777778,
              "#fb9f3a"
             ],
             [
              0.8888888888888888,
              "#fdca26"
             ],
             [
              1,
              "#f0f921"
             ]
            ],
            "type": "contour"
           }
          ],
          "contourcarpet": [
           {
            "colorbar": {
             "outlinewidth": 0,
             "ticks": ""
            },
            "type": "contourcarpet"
           }
          ],
          "heatmap": [
           {
            "colorbar": {
             "outlinewidth": 0,
             "ticks": ""
            },
            "colorscale": [
             [
              0,
              "#0d0887"
             ],
             [
              0.1111111111111111,
              "#46039f"
             ],
             [
              0.2222222222222222,
              "#7201a8"
             ],
             [
              0.3333333333333333,
              "#9c179e"
             ],
             [
              0.4444444444444444,
              "#bd3786"
             ],
             [
              0.5555555555555556,
              "#d8576b"
             ],
             [
              0.6666666666666666,
              "#ed7953"
             ],
             [
              0.7777777777777778,
              "#fb9f3a"
             ],
             [
              0.8888888888888888,
              "#fdca26"
             ],
             [
              1,
              "#f0f921"
             ]
            ],
            "type": "heatmap"
           }
          ],
          "heatmapgl": [
           {
            "colorbar": {
             "outlinewidth": 0,
             "ticks": ""
            },
            "colorscale": [
             [
              0,
              "#0d0887"
             ],
             [
              0.1111111111111111,
              "#46039f"
             ],
             [
              0.2222222222222222,
              "#7201a8"
             ],
             [
              0.3333333333333333,
              "#9c179e"
             ],
             [
              0.4444444444444444,
              "#bd3786"
             ],
             [
              0.5555555555555556,
              "#d8576b"
             ],
             [
              0.6666666666666666,
              "#ed7953"
             ],
             [
              0.7777777777777778,
              "#fb9f3a"
             ],
             [
              0.8888888888888888,
              "#fdca26"
             ],
             [
              1,
              "#f0f921"
             ]
            ],
            "type": "heatmapgl"
           }
          ],
          "histogram": [
           {
            "marker": {
             "pattern": {
              "fillmode": "overlay",
              "size": 10,
              "solidity": 0.2
             }
            },
            "type": "histogram"
           }
          ],
          "histogram2d": [
           {
            "colorbar": {
             "outlinewidth": 0,
             "ticks": ""
            },
            "colorscale": [
             [
              0,
              "#0d0887"
             ],
             [
              0.1111111111111111,
              "#46039f"
             ],
             [
              0.2222222222222222,
              "#7201a8"
             ],
             [
              0.3333333333333333,
              "#9c179e"
             ],
             [
              0.4444444444444444,
              "#bd3786"
             ],
             [
              0.5555555555555556,
              "#d8576b"
             ],
             [
              0.6666666666666666,
              "#ed7953"
             ],
             [
              0.7777777777777778,
              "#fb9f3a"
             ],
             [
              0.8888888888888888,
              "#fdca26"
             ],
             [
              1,
              "#f0f921"
             ]
            ],
            "type": "histogram2d"
           }
          ],
          "histogram2dcontour": [
           {
            "colorbar": {
             "outlinewidth": 0,
             "ticks": ""
            },
            "colorscale": [
             [
              0,
              "#0d0887"
             ],
             [
              0.1111111111111111,
              "#46039f"
             ],
             [
              0.2222222222222222,
              "#7201a8"
             ],
             [
              0.3333333333333333,
              "#9c179e"
             ],
             [
              0.4444444444444444,
              "#bd3786"
             ],
             [
              0.5555555555555556,
              "#d8576b"
             ],
             [
              0.6666666666666666,
              "#ed7953"
             ],
             [
              0.7777777777777778,
              "#fb9f3a"
             ],
             [
              0.8888888888888888,
              "#fdca26"
             ],
             [
              1,
              "#f0f921"
             ]
            ],
            "type": "histogram2dcontour"
           }
          ],
          "mesh3d": [
           {
            "colorbar": {
             "outlinewidth": 0,
             "ticks": ""
            },
            "type": "mesh3d"
           }
          ],
          "parcoords": [
           {
            "line": {
             "colorbar": {
              "outlinewidth": 0,
              "ticks": ""
             }
            },
            "type": "parcoords"
           }
          ],
          "pie": [
           {
            "automargin": true,
            "type": "pie"
           }
          ],
          "scatter": [
           {
            "fillpattern": {
             "fillmode": "overlay",
             "size": 10,
             "solidity": 0.2
            },
            "type": "scatter"
           }
          ],
          "scatter3d": [
           {
            "line": {
             "colorbar": {
              "outlinewidth": 0,
              "ticks": ""
             }
            },
            "marker": {
             "colorbar": {
              "outlinewidth": 0,
              "ticks": ""
             }
            },
            "type": "scatter3d"
           }
          ],
          "scattercarpet": [
           {
            "marker": {
             "colorbar": {
              "outlinewidth": 0,
              "ticks": ""
             }
            },
            "type": "scattercarpet"
           }
          ],
          "scattergeo": [
           {
            "marker": {
             "colorbar": {
              "outlinewidth": 0,
              "ticks": ""
             }
            },
            "type": "scattergeo"
           }
          ],
          "scattergl": [
           {
            "marker": {
             "colorbar": {
              "outlinewidth": 0,
              "ticks": ""
             }
            },
            "type": "scattergl"
           }
          ],
          "scattermapbox": [
           {
            "marker": {
             "colorbar": {
              "outlinewidth": 0,
              "ticks": ""
             }
            },
            "type": "scattermapbox"
           }
          ],
          "scatterpolar": [
           {
            "marker": {
             "colorbar": {
              "outlinewidth": 0,
              "ticks": ""
             }
            },
            "type": "scatterpolar"
           }
          ],
          "scatterpolargl": [
           {
            "marker": {
             "colorbar": {
              "outlinewidth": 0,
              "ticks": ""
             }
            },
            "type": "scatterpolargl"
           }
          ],
          "scatterternary": [
           {
            "marker": {
             "colorbar": {
              "outlinewidth": 0,
              "ticks": ""
             }
            },
            "type": "scatterternary"
           }
          ],
          "surface": [
           {
            "colorbar": {
             "outlinewidth": 0,
             "ticks": ""
            },
            "colorscale": [
             [
              0,
              "#0d0887"
             ],
             [
              0.1111111111111111,
              "#46039f"
             ],
             [
              0.2222222222222222,
              "#7201a8"
             ],
             [
              0.3333333333333333,
              "#9c179e"
             ],
             [
              0.4444444444444444,
              "#bd3786"
             ],
             [
              0.5555555555555556,
              "#d8576b"
             ],
             [
              0.6666666666666666,
              "#ed7953"
             ],
             [
              0.7777777777777778,
              "#fb9f3a"
             ],
             [
              0.8888888888888888,
              "#fdca26"
             ],
             [
              1,
              "#f0f921"
             ]
            ],
            "type": "surface"
           }
          ],
          "table": [
           {
            "cells": {
             "fill": {
              "color": "#EBF0F8"
             },
             "line": {
              "color": "white"
             }
            },
            "header": {
             "fill": {
              "color": "#C8D4E3"
             },
             "line": {
              "color": "white"
             }
            },
            "type": "table"
           }
          ]
         },
         "layout": {
          "annotationdefaults": {
           "arrowcolor": "#2a3f5f",
           "arrowhead": 0,
           "arrowwidth": 1
          },
          "autotypenumbers": "strict",
          "coloraxis": {
           "colorbar": {
            "outlinewidth": 0,
            "ticks": ""
           }
          },
          "colorscale": {
           "diverging": [
            [
             0,
             "#8e0152"
            ],
            [
             0.1,
             "#c51b7d"
            ],
            [
             0.2,
             "#de77ae"
            ],
            [
             0.3,
             "#f1b6da"
            ],
            [
             0.4,
             "#fde0ef"
            ],
            [
             0.5,
             "#f7f7f7"
            ],
            [
             0.6,
             "#e6f5d0"
            ],
            [
             0.7,
             "#b8e186"
            ],
            [
             0.8,
             "#7fbc41"
            ],
            [
             0.9,
             "#4d9221"
            ],
            [
             1,
             "#276419"
            ]
           ],
           "sequential": [
            [
             0,
             "#0d0887"
            ],
            [
             0.1111111111111111,
             "#46039f"
            ],
            [
             0.2222222222222222,
             "#7201a8"
            ],
            [
             0.3333333333333333,
             "#9c179e"
            ],
            [
             0.4444444444444444,
             "#bd3786"
            ],
            [
             0.5555555555555556,
             "#d8576b"
            ],
            [
             0.6666666666666666,
             "#ed7953"
            ],
            [
             0.7777777777777778,
             "#fb9f3a"
            ],
            [
             0.8888888888888888,
             "#fdca26"
            ],
            [
             1,
             "#f0f921"
            ]
           ],
           "sequentialminus": [
            [
             0,
             "#0d0887"
            ],
            [
             0.1111111111111111,
             "#46039f"
            ],
            [
             0.2222222222222222,
             "#7201a8"
            ],
            [
             0.3333333333333333,
             "#9c179e"
            ],
            [
             0.4444444444444444,
             "#bd3786"
            ],
            [
             0.5555555555555556,
             "#d8576b"
            ],
            [
             0.6666666666666666,
             "#ed7953"
            ],
            [
             0.7777777777777778,
             "#fb9f3a"
            ],
            [
             0.8888888888888888,
             "#fdca26"
            ],
            [
             1,
             "#f0f921"
            ]
           ]
          },
          "colorway": [
           "#636efa",
           "#EF553B",
           "#00cc96",
           "#ab63fa",
           "#FFA15A",
           "#19d3f3",
           "#FF6692",
           "#B6E880",
           "#FF97FF",
           "#FECB52"
          ],
          "font": {
           "color": "#2a3f5f"
          },
          "geo": {
           "bgcolor": "white",
           "lakecolor": "white",
           "landcolor": "#E5ECF6",
           "showlakes": true,
           "showland": true,
           "subunitcolor": "white"
          },
          "hoverlabel": {
           "align": "left"
          },
          "hovermode": "closest",
          "mapbox": {
           "style": "light"
          },
          "paper_bgcolor": "white",
          "plot_bgcolor": "#E5ECF6",
          "polar": {
           "angularaxis": {
            "gridcolor": "white",
            "linecolor": "white",
            "ticks": ""
           },
           "bgcolor": "#E5ECF6",
           "radialaxis": {
            "gridcolor": "white",
            "linecolor": "white",
            "ticks": ""
           }
          },
          "scene": {
           "xaxis": {
            "backgroundcolor": "#E5ECF6",
            "gridcolor": "white",
            "gridwidth": 2,
            "linecolor": "white",
            "showbackground": true,
            "ticks": "",
            "zerolinecolor": "white"
           },
           "yaxis": {
            "backgroundcolor": "#E5ECF6",
            "gridcolor": "white",
            "gridwidth": 2,
            "linecolor": "white",
            "showbackground": true,
            "ticks": "",
            "zerolinecolor": "white"
           },
           "zaxis": {
            "backgroundcolor": "#E5ECF6",
            "gridcolor": "white",
            "gridwidth": 2,
            "linecolor": "white",
            "showbackground": true,
            "ticks": "",
            "zerolinecolor": "white"
           }
          },
          "shapedefaults": {
           "line": {
            "color": "#2a3f5f"
           }
          },
          "ternary": {
           "aaxis": {
            "gridcolor": "white",
            "linecolor": "white",
            "ticks": ""
           },
           "baxis": {
            "gridcolor": "white",
            "linecolor": "white",
            "ticks": ""
           },
           "bgcolor": "#E5ECF6",
           "caxis": {
            "gridcolor": "white",
            "linecolor": "white",
            "ticks": ""
           }
          },
          "title": {
           "x": 0.05
          },
          "xaxis": {
           "automargin": true,
           "gridcolor": "white",
           "linecolor": "white",
           "ticks": "",
           "title": {
            "standoff": 15
           },
           "zerolinecolor": "white",
           "zerolinewidth": 2
          },
          "yaxis": {
           "automargin": true,
           "gridcolor": "white",
           "linecolor": "white",
           "ticks": "",
           "title": {
            "standoff": 15
           },
           "zerolinecolor": "white",
           "zerolinewidth": 2
          }
         }
        },
        "title": {
         "text": "add and subtract average"
        },
        "width": 800,
        "xaxis": {
         "anchor": "y",
         "autorange": true,
         "constrain": "domain",
         "domain": [
          0.1581920903954802,
          0.8418079096045198
         ],
         "range": [
          0.5,
          5.5
         ],
         "scaleanchor": "y",
         "tickmode": "array",
         "ticktext": [
          1,
          2,
          3,
          4,
          5
         ],
         "tickvals": [
          1,
          2,
          3,
          4,
          5
         ],
         "type": "linear"
        },
        "yaxis": {
         "anchor": "x",
         "autorange": true,
         "constrain": "domain",
         "domain": [
          0.0010309278350515427,
          0.9989690721649485
         ],
         "range": [
          5.5,
          0.5
         ],
         "tickmode": "array",
         "ticktext": [
          1,
          2,
          3,
          4,
          5
         ],
         "tickvals": [
          1,
          2,
          3,
          4,
          5
         ],
         "type": "linear"
        }
       }
      },
      "image/png": "[encoded data removed]",
      "text/html": [
       "<div>                            <div id=\"b3ef44d6-312f-48b3-8224-13c71b7d803f\" class=\"plotly-graph-div\" style=\"height:600px; width:800px;\"></div>            <script type=\"text/javascript\">                require([\"plotly\"], function(Plotly) {                    window.PLOTLYENV=window.PLOTLYENV || {};                                    if (document.getElementById(\"b3ef44d6-312f-48b3-8224-13c71b7d803f\")) {                    Plotly.newPlot(                        \"b3ef44d6-312f-48b3-8224-13c71b7d803f\",                        [{\"coloraxis\":\"coloraxis\",\"name\":\"0\",\"x\":[1,2,3,4,5],\"y\":[1,2,3,4,5],\"z\":[[1.0,1.0,0.9900990128517151,0.6831682920455933,0.6138613820075989],[0.9801980257034302,1.0,0.9504950642585754,0.7722772359848022,0.5841584205627441],[1.0,1.0,1.0,0.8811880946159363,0.8514851331710815],[0.9801980257034302,0.9504950642585754,0.9603960514068604,0.8613861203193665,0.8415841460227966],[1.0,1.0,1.0,0.9405940771102905,0.9108911156654358]],\"type\":\"heatmap\",\"xaxis\":\"x\",\"yaxis\":\"y\",\"hovertemplate\":\"x: %{x}\\u003cbr\\u003ey: %{y}\\u003cbr\\u003ecolor: %{z}\\u003cextra\\u003e\\u003c\\u002fextra\\u003e\"}],                        {\"template\":{\"data\":{\"histogram2dcontour\":[{\"type\":\"histogram2dcontour\",\"colorbar\":{\"outlinewidth\":0,\"ticks\":\"\"},\"colorscale\":[[0.0,\"#0d0887\"],[0.1111111111111111,\"#46039f\"],[0.2222222222222222,\"#7201a8\"],[0.3333333333333333,\"#9c179e\"],[0.4444444444444444,\"#bd3786\"],[0.5555555555555556,\"#d8576b\"],[0.6666666666666666,\"#ed7953\"],[0.7777777777777778,\"#fb9f3a\"],[0.8888888888888888,\"#fdca26\"],[1.0,\"#f0f921\"]]}],\"choropleth\":[{\"type\":\"choropleth\",\"colorbar\":{\"outlinewidth\":0,\"ticks\":\"\"}}],\"histogram2d\":[{\"type\":\"histogram2d\",\"colorbar\":{\"outlinewidth\":0,\"ticks\":\"\"},\"colorscale\":[[0.0,\"#0d0887\"],[0.1111111111111111,\"#46039f\"],[0.2222222222222222,\"#7201a8\"],[0.3333333333333333,\"#9c179e\"],[0.4444444444444444,\"#bd3786\"],[0.5555555555555556,\"#d8576b\"],[0.6666666666666666,\"#ed7953\"],[0.7777777777777778,\"#fb9f3a\"],[0.8888888888888888,\"#fdca26\"],[1.0,\"#f0f921\"]]}],\"heatmap\":[{\"type\":\"heatmap\",\"colorbar\":{\"outlinewidth\":0,\"ticks\":\"\"},\"colorscale\":[[0.0,\"#0d0887\"],[0.1111111111111111,\"#46039f\"],[0.2222222222222222,\"#7201a8\"],[0.3333333333333333,\"#9c179e\"],[0.4444444444444444,\"#bd3786\"],[0.5555555555555556,\"#d8576b\"],[0.6666666666666666,\"#ed7953\"],[0.7777777777777778,\"#fb9f3a\"],[0.8888888888888888,\"#fdca26\"],[1.0,\"#f0f921\"]]}],\"heatmapgl\":[{\"type\":\"heatmapgl\",\"colorbar\":{\"outlinewidth\":0,\"ticks\":\"\"},\"colorscale\":[[0.0,\"#0d0887\"],[0.1111111111111111,\"#46039f\"],[0.2222222222222222,\"#7201a8\"],[0.3333333333333333,\"#9c179e\"],[0.4444444444444444,\"#bd3786\"],[0.5555555555555556,\"#d8576b\"],[0.6666666666666666,\"#ed7953\"],[0.7777777777777778,\"#fb9f3a\"],[0.8888888888888888,\"#fdca26\"],[1.0,\"#f0f921\"]]}],\"contourcarpet\":[{\"type\":\"contourcarpet\",\"colorbar\":{\"outlinewidth\":0,\"ticks\":\"\"}}],\"contour\":[{\"type\":\"contour\",\"colorbar\":{\"outlinewidth\":0,\"ticks\":\"\"},\"colorscale\":[[0.0,\"#0d0887\"],[0.1111111111111111,\"#46039f\"],[0.2222222222222222,\"#7201a8\"],[0.3333333333333333,\"#9c179e\"],[0.4444444444444444,\"#bd3786\"],[0.5555555555555556,\"#d8576b\"],[0.6666666666666666,\"#ed7953\"],[0.7777777777777778,\"#fb9f3a\"],[0.8888888888888888,\"#fdca26\"],[1.0,\"#f0f921\"]]}],\"surface\":[{\"type\":\"surface\",\"colorbar\":{\"outlinewidth\":0,\"ticks\":\"\"},\"colorscale\":[[0.0,\"#0d0887\"],[0.1111111111111111,\"#46039f\"],[0.2222222222222222,\"#7201a8\"],[0.3333333333333333,\"#9c179e\"],[0.4444444444444444,\"#bd3786\"],[0.5555555555555556,\"#d8576b\"],[0.6666666666666666,\"#ed7953\"],[0.7777777777777778,\"#fb9f3a\"],[0.8888888888888888,\"#fdca26\"],[1.0,\"#f0f921\"]]}],\"mesh3d\":[{\"type\":\"mesh3d\",\"colorbar\":{\"outlinewidth\":0,\"ticks\":\"\"}}],\"scatter\":[{\"fillpattern\":{\"fillmode\":\"overlay\",\"size\":10,\"solidity\":0.2},\"type\":\"scatter\"}],\"parcoords\":[{\"type\":\"parcoords\",\"line\":{\"colorbar\":{\"outlinewidth\":0,\"ticks\":\"\"}}}],\"scatterpolargl\":[{\"type\":\"scatterpolargl\",\"marker\":{\"colorbar\":{\"outlinewidth\":0,\"ticks\":\"\"}}}],\"bar\":[{\"error_x\":{\"color\":\"#2a3f5f\"},\"error_y\":{\"color\":\"#2a3f5f\"},\"marker\":{\"line\":{\"color\":\"#E5ECF6\",\"width\":0.5},\"pattern\":{\"fillmode\":\"overlay\",\"size\":10,\"solidity\":0.2}},\"type\":\"bar\"}],\"scattergeo\":[{\"type\":\"scattergeo\",\"marker\":{\"colorbar\":{\"outlinewidth\":0,\"ticks\":\"\"}}}],\"scatterpolar\":[{\"type\":\"scatterpolar\",\"marker\":{\"colorbar\":{\"outlinewidth\":0,\"ticks\":\"\"}}}],\"histogram\":[{\"marker\":{\"pattern\":{\"fillmode\":\"overlay\",\"size\":10,\"solidity\":0.2}},\"type\":\"histogram\"}],\"scattergl\":[{\"type\":\"scattergl\",\"marker\":{\"colorbar\":{\"outlinewidth\":0,\"ticks\":\"\"}}}],\"scatter3d\":[{\"type\":\"scatter3d\",\"line\":{\"colorbar\":{\"outlinewidth\":0,\"ticks\":\"\"}},\"marker\":{\"colorbar\":{\"outlinewidth\":0,\"ticks\":\"\"}}}],\"scattermapbox\":[{\"type\":\"scattermapbox\",\"marker\":{\"colorbar\":{\"outlinewidth\":0,\"ticks\":\"\"}}}],\"scatterternary\":[{\"type\":\"scatterternary\",\"marker\":{\"colorbar\":{\"outlinewidth\":0,\"ticks\":\"\"}}}],\"scattercarpet\":[{\"type\":\"scattercarpet\",\"marker\":{\"colorbar\":{\"outlinewidth\":0,\"ticks\":\"\"}}}],\"carpet\":[{\"aaxis\":{\"endlinecolor\":\"#2a3f5f\",\"gridcolor\":\"white\",\"linecolor\":\"white\",\"minorgridcolor\":\"white\",\"startlinecolor\":\"#2a3f5f\"},\"baxis\":{\"endlinecolor\":\"#2a3f5f\",\"gridcolor\":\"white\",\"linecolor\":\"white\",\"minorgridcolor\":\"white\",\"startlinecolor\":\"#2a3f5f\"},\"type\":\"carpet\"}],\"table\":[{\"cells\":{\"fill\":{\"color\":\"#EBF0F8\"},\"line\":{\"color\":\"white\"}},\"header\":{\"fill\":{\"color\":\"#C8D4E3\"},\"line\":{\"color\":\"white\"}},\"type\":\"table\"}],\"barpolar\":[{\"marker\":{\"line\":{\"color\":\"#E5ECF6\",\"width\":0.5},\"pattern\":{\"fillmode\":\"overlay\",\"size\":10,\"solidity\":0.2}},\"type\":\"barpolar\"}],\"pie\":[{\"automargin\":true,\"type\":\"pie\"}]},\"layout\":{\"autotypenumbers\":\"strict\",\"colorway\":[\"#636efa\",\"#EF553B\",\"#00cc96\",\"#ab63fa\",\"#FFA15A\",\"#19d3f3\",\"#FF6692\",\"#B6E880\",\"#FF97FF\",\"#FECB52\"],\"font\":{\"color\":\"#2a3f5f\"},\"hovermode\":\"closest\",\"hoverlabel\":{\"align\":\"left\"},\"paper_bgcolor\":\"white\",\"plot_bgcolor\":\"#E5ECF6\",\"polar\":{\"bgcolor\":\"#E5ECF6\",\"angularaxis\":{\"gridcolor\":\"white\",\"linecolor\":\"white\",\"ticks\":\"\"},\"radialaxis\":{\"gridcolor\":\"white\",\"linecolor\":\"white\",\"ticks\":\"\"}},\"ternary\":{\"bgcolor\":\"#E5ECF6\",\"aaxis\":{\"gridcolor\":\"white\",\"linecolor\":\"white\",\"ticks\":\"\"},\"baxis\":{\"gridcolor\":\"white\",\"linecolor\":\"white\",\"ticks\":\"\"},\"caxis\":{\"gridcolor\":\"white\",\"linecolor\":\"white\",\"ticks\":\"\"}},\"coloraxis\":{\"colorbar\":{\"outlinewidth\":0,\"ticks\":\"\"}},\"colorscale\":{\"sequential\":[[0.0,\"#0d0887\"],[0.1111111111111111,\"#46039f\"],[0.2222222222222222,\"#7201a8\"],[0.3333333333333333,\"#9c179e\"],[0.4444444444444444,\"#bd3786\"],[0.5555555555555556,\"#d8576b\"],[0.6666666666666666,\"#ed7953\"],[0.7777777777777778,\"#fb9f3a\"],[0.8888888888888888,\"#fdca26\"],[1.0,\"#f0f921\"]],\"sequentialminus\":[[0.0,\"#0d0887\"],[0.1111111111111111,\"#46039f\"],[0.2222222222222222,\"#7201a8\"],[0.3333333333333333,\"#9c179e\"],[0.4444444444444444,\"#bd3786\"],[0.5555555555555556,\"#d8576b\"],[0.6666666666666666,\"#ed7953\"],[0.7777777777777778,\"#fb9f3a\"],[0.8888888888888888,\"#fdca26\"],[1.0,\"#f0f921\"]],\"diverging\":[[0,\"#8e0152\"],[0.1,\"#c51b7d\"],[0.2,\"#de77ae\"],[0.3,\"#f1b6da\"],[0.4,\"#fde0ef\"],[0.5,\"#f7f7f7\"],[0.6,\"#e6f5d0\"],[0.7,\"#b8e186\"],[0.8,\"#7fbc41\"],[0.9,\"#4d9221\"],[1,\"#276419\"]]},\"xaxis\":{\"gridcolor\":\"white\",\"linecolor\":\"white\",\"ticks\":\"\",\"title\":{\"standoff\":15},\"zerolinecolor\":\"white\",\"automargin\":true,\"zerolinewidth\":2},\"yaxis\":{\"gridcolor\":\"white\",\"linecolor\":\"white\",\"ticks\":\"\",\"title\":{\"standoff\":15},\"zerolinecolor\":\"white\",\"automargin\":true,\"zerolinewidth\":2},\"scene\":{\"xaxis\":{\"backgroundcolor\":\"#E5ECF6\",\"gridcolor\":\"white\",\"linecolor\":\"white\",\"showbackground\":true,\"ticks\":\"\",\"zerolinecolor\":\"white\",\"gridwidth\":2},\"yaxis\":{\"backgroundcolor\":\"#E5ECF6\",\"gridcolor\":\"white\",\"linecolor\":\"white\",\"showbackground\":true,\"ticks\":\"\",\"zerolinecolor\":\"white\",\"gridwidth\":2},\"zaxis\":{\"backgroundcolor\":\"#E5ECF6\",\"gridcolor\":\"white\",\"linecolor\":\"white\",\"showbackground\":true,\"ticks\":\"\",\"zerolinecolor\":\"white\",\"gridwidth\":2}},\"shapedefaults\":{\"line\":{\"color\":\"#2a3f5f\"}},\"annotationdefaults\":{\"arrowcolor\":\"#2a3f5f\",\"arrowhead\":0,\"arrowwidth\":1},\"geo\":{\"bgcolor\":\"white\",\"landcolor\":\"#E5ECF6\",\"subunitcolor\":\"white\",\"showland\":true,\"showlakes\":true,\"lakecolor\":\"white\"},\"title\":{\"x\":0.05},\"mapbox\":{\"style\":\"light\"}}},\"xaxis\":{\"anchor\":\"y\",\"domain\":[0.0,1.0],\"scaleanchor\":\"y\",\"constrain\":\"domain\",\"tickmode\":\"array\",\"tickvals\":[1,2,3,4,5],\"ticktext\":[1,2,3,4,5]},\"yaxis\":{\"anchor\":\"x\",\"domain\":[0.0,1.0],\"autorange\":\"reversed\",\"constrain\":\"domain\",\"tickmode\":\"array\",\"tickvals\":[1,2,3,4,5],\"ticktext\":[1,2,3,4,5]},\"coloraxis\":{\"colorscale\":[[0.0,\"rgb(103,0,31)\"],[0.1,\"rgb(178,24,43)\"],[0.2,\"rgb(214,96,77)\"],[0.3,\"rgb(244,165,130)\"],[0.4,\"rgb(253,219,199)\"],[0.5,\"rgb(247,247,247)\"],[0.6,\"rgb(209,229,240)\"],[0.7,\"rgb(146,197,222)\"],[0.8,\"rgb(67,147,195)\"],[0.9,\"rgb(33,102,172)\"],[1.0,\"rgb(5,48,97)\"]]},\"title\":{\"text\":\"add and subtract average\"},\"font\":{\"size\":12,\"color\":\"black\"},\"margin\":{\"l\":0,\"r\":0,\"t\":100,\"b\":0},\"width\":800,\"height\":600,\"autosize\":false,\"showlegend\":true,\"legend\":{\"yanchor\":\"top\",\"y\":0.99,\"xanchor\":\"left\",\"x\":0.01}},                        {\"responsive\": true}                    ).then(function(){\n",
       "                            \n",
       "var gd = document.getElementById('b3ef44d6-312f-48b3-8224-13c71b7d803f');\n",
       "var x = new MutationObserver(function (mutations, observer) {{\n",
       "        var display = window.getComputedStyle(gd).display;\n",
       "        if (!display || display === 'none') {{\n",
       "            console.log([gd, 'removed!']);\n",
       "            Plotly.purge(gd);\n",
       "            observer.disconnect();\n",
       "        }}\n",
       "}});\n",
       "\n",
       "// Listen for the removal of the full notebook cells\n",
       "var notebookContainer = gd.closest('#notebook-container');\n",
       "if (notebookContainer) {{\n",
       "    x.observe(notebookContainer, {childList: true});\n",
       "}}\n",
       "\n",
       "// Listen for the clearing of the current output cell\n",
       "var outputEl = gd.closest('.output');\n",
       "if (outputEl) {{\n",
       "    x.observe(outputEl, {childList: true});\n",
       "}}\n",
       "\n",
       "                        })                };                });            </script>        </div>"
      ]
     },
     "metadata": {},
     "output_type": "display_data"
    }
   ],
   "source": [
    "\n",
    "n_correct_matrix = torch.zeros([5,5])\n",
    "\n",
    "for pos1 in range(5):\n",
    "    for pos2 in range(5):\n",
    "        replace_diff = -torch.tensor(replace_corrects[(pos1,pos2)]) + torch.tensor(replace_replaces[(pos1,pos2)])\n",
    "        n_correct_matrix[pos1, pos2] = torch.sum(replace_diff > 0)/replace_diff.size()[0]\n",
    "\n",
    "# modified from neel nanda's examples\n",
    "def imshow(tensor, renderer=None, xaxis=\"\", yaxis=\"\", font_size=None, show=True, color_continuous_midpoint=0.0, **kwargs):\n",
    "    import plotly.express as px\n",
    "    import transformer_lens.utils as utils\n",
    "    fig = px.imshow(utils.to_numpy(tensor), color_continuous_midpoint=color_continuous_midpoint, color_continuous_scale=\"RdBu\", labels={\"x\":xaxis, \"y\":yaxis}, **kwargs)\n",
    "    if not font_size is None:\n",
    "        if 'x' in kwargs:\n",
    "            fig.update_layout(\n",
    "              xaxis = dict(\n",
    "                tickmode='array',\n",
    "                tickvals = kwargs['x'],\n",
    "                ticktext = kwargs['x'], \n",
    "                ),\n",
    "               font=dict(size=font_size, color=\"black\"))\n",
    "        if 'y' in kwargs:\n",
    "            fig.update_layout(\n",
    "              yaxis = dict(\n",
    "                tickmode='array',\n",
    "                tickvals = kwargs['y'],\n",
    "                ticktext = kwargs['y'], \n",
    "                ),\n",
    "               font=dict(size=font_size, color=\"black\"))\n",
    "    plot_args = {\n",
    "        'width': 800,\n",
    "        'height': 600,\n",
    "        \"autosize\": False,\n",
    "        'showlegend': True,\n",
    "        'margin': {\"l\":0,\"r\":0,\"t\":100,\"b\":0}\n",
    "    }\n",
    "    \n",
    "    fig.update_layout(**plot_args)\n",
    "    fig.update_layout(legend=dict(\n",
    "        yanchor=\"top\",\n",
    "        y=0.99,\n",
    "        xanchor=\"left\",\n",
    "            x=0.01\n",
    "    ))\n",
    "    if show:\n",
    "        fig.show(renderer)\n",
    "    else:\n",
    "        return fig\n",
    "\n",
    "title = 'replacing with average'\n",
    "if DO_DIFF:\n",
    "    title = 'add and subtract average'\n",
    "\n",
    "imshow(n_correct_matrix, color_continuous_midpoint=None, y=[1,2,3,4,5], x=[1,2,3,4,5], title=title, font_size=12)"
   ]
  },
  {
   "cell_type": "code",
   "execution_count": null,
   "id": "118e8d2c-0b52-4c16-a5aa-421640f57a40",
   "metadata": {},
   "outputs": [],
   "source": []
  }
 ],
 "metadata": {
  "kernelspec": {
   "display_name": "Python 3 (ipykernel)",
   "language": "python",
   "name": "python3"
  },
  "language_info": {
   "codemirror_mode": {
    "name": "ipython",
    "version": 3
   },
   "file_extension": ".py",
   "mimetype": "text/x-python",
   "name": "python",
   "nbconvert_exporter": "python",
   "pygments_lexer": "ipython3",
   "version": "3.10.9"
  }
 },
 "nbformat": 4,
 "nbformat_minor": 5
}
